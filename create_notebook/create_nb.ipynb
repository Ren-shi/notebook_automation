{
 "cells": [
  {
   "cell_type": "code",
   "execution_count": 5,
   "metadata": {},
   "outputs": [
    {
     "name": "stdout",
     "output_type": "stream",
     "text": [
      "ng got\n",
      "Notebook 'generated_notebook_with_multiple_cells.ipynb' created successfully!\n"
     ]
    }
   ],
   "source": [
    "import nbformat as nbf\n",
    "\n",
    "# Create a new notebook object\n",
    "# nb = nbf.v4.new_notebook()\n",
    "\n",
    "# Define the content for multiple code cells\n",
    "code_cells = [\n",
    "    \"\"\"# Importing necessary libraries\n",
    "import numpy as np\n",
    "import pandas as pd\n",
    "    \"\"\",\n",
    "    \n",
    "    \"\"\"# Generating some sample data\n",
    "data = np.random.randn(100, 4)\n",
    "df = pd.DataFrame(data, columns=['A', 'B', 'C', 'D'])\n",
    "print(df.head())  # Display the first few rows of the DataFrame\n",
    "    \"\"\",\n",
    "    \n",
    "    \"\"\"# Performing some basic data analysis\n",
    "summary_stats = df.describe()\n",
    "print(summary_stats)  # Display summary statistics for the DataFrame\n",
    "    \"\"\",\n",
    "    \n",
    "    \"\"\"# Visualizing the data\n",
    "import matplotlib.pyplot as plt\n",
    "\n",
    "df.plot(kind='box')  # Creating a boxplot for the DataFrame columns\n",
    "plt.show()\n",
    "    \"\"\"\n",
    "]\n",
    "notebook_filename = \"generated_notebook_with_multiple_cells.ipynb\"\n",
    "def create_notebook_cells(code,notebook_filename):\n",
    "    nb = nbf.v4.new_notebook()\n",
    "    for code in code_cells:\n",
    "        nb.cells.append(nbf.v4.new_code_cell(code))\n",
    "    with open(notebook_filename, 'w') as f:\n",
    "        nbf.write(nb, f)\n",
    "\n",
    "# Add each piece of code to a separate cell\n",
    "\n",
    "\n",
    "# Define the filename for the new notebook\n",
    "create_notebook_cells(code_cells,notebook_filename)\n",
    "\n",
    "print(f\"Notebook '{notebook_filename}' created successfully!\")\n"
   ]
  }
 ],
 "metadata": {
  "kernelspec": {
   "display_name": ".venv",
   "language": "python",
   "name": "python3"
  },
  "language_info": {
   "codemirror_mode": {
    "name": "ipython",
    "version": 3
   },
   "file_extension": ".py",
   "mimetype": "text/x-python",
   "name": "python",
   "nbconvert_exporter": "python",
   "pygments_lexer": "ipython3",
   "version": "3.12.1"
  }
 },
 "nbformat": 4,
 "nbformat_minor": 2
}

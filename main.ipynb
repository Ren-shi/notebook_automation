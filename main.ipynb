{
 "cells": [
  {
   "cell_type": "code",
   "execution_count": 7,
   "metadata": {},
   "outputs": [],
   "source": [
    "from create_notebook import create_notebook_cells"
   ]
  },
  {
   "cell_type": "code",
   "execution_count": 2,
   "metadata": {},
   "outputs": [],
   "source": [
    "code_cells = [\n",
    "    \"\"\"# Importing necessary libraries\n",
    "import numpy as np\n",
    "import pandas as pd\n",
    "    \"\"\",\n",
    "    \n",
    "    \"\"\"# Generating some sample data\n",
    "data = np.random.randn(100, 4)\n",
    "df = pd.DataFrame(data, columns=['A', 'B', 'C', 'D'])\n",
    "print(df.head())  # Display the first few rows of the DataFrame\n",
    "    \"\"\",\n",
    "    \n",
    "    \"\"\"# Performing some basic data analysis\n",
    "summary_stats = df.describe()\n",
    "print(summary_stats)  # Display summary statistics for the DataFrame\n",
    "    \"\"\",\n",
    "    \n",
    "    \"\"\"# Visualizing the data\n",
    "import matplotlib.pyplot as plt\n",
    "\n",
    "df.plot(kind='box')  # Creating a boxplot for the DataFrame columns\n",
    "plt.show()\n",
    "    \"\"\"\n",
    "]"
   ]
  },
  {
   "cell_type": "code",
   "execution_count": 8,
   "metadata": {},
   "outputs": [],
   "source": [
    "create_notebook_cells(code_cells,'test.ipynb')"
   ]
  },
  {
   "cell_type": "code",
   "execution_count": 9,
   "metadata": {},
   "outputs": [
    {
     "name": "stdout",
     "output_type": "stream",
     "text": [
      "Sending message via SMTP: Hello World!\n",
      "Mock sending message: Hello Test!\n"
     ]
    }
   ],
   "source": [
    "class SmtpClient:\n",
    "    def send(self, message):\n",
    "        print(f\"Sending message via SMTP: {message}\")\n",
    "\n",
    "class MockSmtpClient:\n",
    "    def send(self, message):\n",
    "        print(f\"Mock sending message: {message}\")\n",
    "\n",
    "class EmailService:\n",
    "    def __init__(self, smtp_client):\n",
    "        # Injecting the dependency via the constructor (loose coupling)\n",
    "        self.smtp_client = smtp_client\n",
    "    \n",
    "    def send_email(self, message):\n",
    "        self.smtp_client.send(message)\n",
    "\n",
    "# Example Usage with the real SMTP client\n",
    "smtp_client = SmtpClient()\n",
    "email_service = EmailService(smtp_client)  # Injecting dependency\n",
    "email_service.send_email(\"Hello World!\")\n",
    "\n",
    "# Example Usage with a mock SMTP client for testing\n",
    "mock_client = MockSmtpClient()\n",
    "email_service_test = EmailService(mock_client)  # Injecting mock dependency\n",
    "email_service_test.send_email(\"Hello Test!\")\n"
   ]
  },
  {
   "cell_type": "code",
   "execution_count": 6,
   "metadata": {},
   "outputs": [
    {
     "ename": "ModuleNotFoundError",
     "evalue": "No module named 'file_movement'",
     "output_type": "error",
     "traceback": [
      "\u001b[1;31m---------------------------------------------------------------------------\u001b[0m",
      "\u001b[1;31mModuleNotFoundError\u001b[0m                       Traceback (most recent call last)",
      "Cell \u001b[1;32mIn[6], line 1\u001b[0m\n\u001b[1;32m----> 1\u001b[0m \u001b[38;5;28;01mfrom\u001b[39;00m \u001b[38;5;21;01mcore\u001b[39;00m \u001b[38;5;28;01mimport\u001b[39;00m file_movement,services\n\u001b[0;32m      3\u001b[0m file_server \u001b[38;5;241m=\u001b[39m services\u001b[38;5;241m.\u001b[39mFileServer()\n\u001b[0;32m      4\u001b[0m file_move \u001b[38;5;241m=\u001b[39m file_movement\u001b[38;5;241m.\u001b[39mFileMovement(file_server)\n",
      "File \u001b[1;32mc:\\Users\\brand\\Documents\\python_notebook_automation\\notebook_automation\\core\\__init__.py:2\u001b[0m\n\u001b[0;32m      1\u001b[0m \u001b[38;5;66;03m# from services import *\u001b[39;00m\n\u001b[1;32m----> 2\u001b[0m \u001b[38;5;28;01mfrom\u001b[39;00m \u001b[38;5;21;01mfile_movement\u001b[39;00m \u001b[38;5;28;01mimport\u001b[39;00m \u001b[38;5;241m*\u001b[39m\n",
      "\u001b[1;31mModuleNotFoundError\u001b[0m: No module named 'file_movement'"
     ]
    }
   ],
   "source": [
    "from core import file_movement,services\n",
    "\n",
    "file_server = services.FileServer()\n",
    "file_move = file_movement.FileMovement(file_server)\n",
    "file_move.upload_file('test')"
   ]
  }
 ],
 "metadata": {
  "kernelspec": {
   "display_name": ".venv",
   "language": "python",
   "name": "python3"
  },
  "language_info": {
   "codemirror_mode": {
    "name": "ipython",
    "version": 3
   },
   "file_extension": ".py",
   "mimetype": "text/x-python",
   "name": "python",
   "nbconvert_exporter": "python",
   "pygments_lexer": "ipython3",
   "version": "3.12.1"
  }
 },
 "nbformat": 4,
 "nbformat_minor": 2
}

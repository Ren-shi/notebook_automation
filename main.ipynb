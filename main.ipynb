{
 "cells": [
  {
   "cell_type": "code",
   "execution_count": 19,
   "metadata": {},
   "outputs": [],
   "source": [
    "from create_notebook import create_notebook_cells"
   ]
  },
  {
   "cell_type": "code",
   "execution_count": 46,
   "metadata": {},
   "outputs": [],
   "source": [
    "code_cells = [\n",
    "    \"\"\"batch_id = \"81b4316e-df1d-4761-b85b-8eb5d3cdb317\"\n",
    "    \"\"\",\n",
    "    \n",
    "    \"\"\"# \n",
    "import sys\n",
    "sys.path.append(\"../../Papermill\")\n",
    "from configs import config_get\n",
    "\n",
    "import pandas as pd\n",
    "import numpy as np\n",
    "import time\n",
    "import json\n",
    "import core as co\n",
    "from core.utils import setup_tracer\n",
    "configs = config_get()\n",
    "# configs = co.config_get()\n",
    "timer = co.NotebookTimer()\n",
    "start_time = time.time()\n",
    "    \"\"\",\n",
    "    \n",
    "    \"\"\"\n",
    "tracer = setup_tracer(configs['app_insights']['instrumentation_key'])\n",
    "span = tracer.start_span(\"notebook: leaseevent_placeholder_notebook\")\n",
    "span.set_attribute(\"batch_id\", batch_id)\n",
    "trace_context = (tracer,span)\n",
    "    \"\"\",\n",
    "    \n",
    "    \"\"\"\n",
    "parameters = {'BatchId': batch_id}\n",
    "source_directory = parameters[\"source_directory\"]\n",
    "source_file = parameters[\"source_file\"]\n",
    "file_path =  f'{source_directory}/{source_file}'\n",
    "    \"\"\",\n",
    "    \"\"\"df_file_data = co.read_csv(configs,file_path,trace_context=trace_context)\"\"\"\n",
    "]"
   ]
  },
  {
   "cell_type": "code",
   "execution_count": 47,
   "metadata": {},
   "outputs": [],
   "source": [
    "mapped_table_verification_code = [\"\"\"additional_fields = {\"BatchId\": batch_id}\n",
    "validation_columns = ['LeaseId','EffectiveDate']\n",
    "\n",
    "df_mapped = co.df_map_for_sql_insert(df_file_data, stage_mapping, additional_fields, validation_columns=validation_columns,trace_context=trace_context)\n",
    "df_mapped.dropna(inplace=True)\n",
    "# df_mapped.drop_duplicates(inplace=True)\n",
    "display(df_mapped.tail(1))\n",
    "df_mapped.shape\"\"\"]"
   ]
  },
  {
   "cell_type": "code",
   "execution_count": 3,
   "metadata": {},
   "outputs": [],
   "source": [
    "create_notebook_cells(code_cells,'test.ipynb')"
   ]
  },
  {
   "cell_type": "code",
   "execution_count": 5,
   "metadata": {},
   "outputs": [
    {
     "name": "stdout",
     "output_type": "stream",
     "text": [
      "uploaded!\n"
     ]
    }
   ],
   "source": [
    "from core import file_movement,services\n",
    "\n",
    "file_server = services.FileServer()\n",
    "file_move = file_movement.FileMovement(file_server)\n",
    "file_move.upload_file('test','test.ipynb')"
   ]
  },
  {
   "cell_type": "code",
   "execution_count": 48,
   "metadata": {},
   "outputs": [],
   "source": [
    "from core import generate_notebook_field\n",
    "table_fields=['item1','item2','item3']\n",
    "table_fields_mapping = {}\n",
    "for item in table_fields:\n",
    "    item_generator = generate_notebook_field.ItemDictGenerator(item)\n",
    "    result = item_generator.generate_dict()\n",
    "    table_fields_mapping.update(result)\n",
    "table_mapping_code = [f'stage_mapping = {table_fields_mapping}']"
   ]
  },
  {
   "cell_type": "code",
   "execution_count": 49,
   "metadata": {},
   "outputs": [],
   "source": [
    "combined_code_cells=code_cells + table_mapping_code +mapped_table_verification_code\n",
    "    "
   ]
  },
  {
   "cell_type": "code",
   "execution_count": 50,
   "metadata": {},
   "outputs": [],
   "source": [
    "create_notebook_cells(combined_code_cells,'test.ipynb')"
   ]
  }
 ],
 "metadata": {
  "kernelspec": {
   "display_name": ".venv",
   "language": "python",
   "name": "python3"
  },
  "language_info": {
   "codemirror_mode": {
    "name": "ipython",
    "version": 3
   },
   "file_extension": ".py",
   "mimetype": "text/x-python",
   "name": "python",
   "nbconvert_exporter": "python",
   "pygments_lexer": "ipython3",
   "version": "3.12.1"
  }
 },
 "nbformat": 4,
 "nbformat_minor": 2
}

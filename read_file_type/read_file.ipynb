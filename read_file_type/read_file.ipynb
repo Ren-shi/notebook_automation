{
 "cells": [
  {
   "cell_type": "code",
   "execution_count": 2,
   "metadata": {},
   "outputs": [
    {
     "name": "stdout",
     "output_type": "stream",
     "text": [
      "The extension of the file 'example_document.xlsx' is: .xlsx\n"
     ]
    }
   ],
   "source": [
    "import os\n",
    "\n",
    "# Function to get the file extension\n",
    "def get_file_extension(file_name):\n",
    "    _, file_extension = os.path.splitext(file_name)\n",
    "    return file_extension\n",
    "\n",
    "# Example file name\n",
    "file_name = \"example_document.xlsx\"\n",
    "\n",
    "# Get the file extension\n",
    "extension = get_file_extension(file_name)\n",
    "\n",
    "# Print the extension\n",
    "print(f\"The extension of the file '{file_name}' is: {extension}\")\n"
   ]
  },
  {
   "cell_type": "code",
   "execution_count": 5,
   "metadata": {},
   "outputs": [],
   "source": [
    "import pandas as pd\n",
    "file_path = 'test.xlsx'\n",
    "# Read the Excel file (pandas handles the encoding internally)\n",
    "def read_excel(file_path):\n",
    "    df = pd.read_excel(file_path)\n",
    "    return df\n",
    "def read_file(file_path, extension):\n",
    "    if extension == '.xlsx':\n",
    "        df = read_excel(file_path)\n",
    "    return df \n",
    "# Display the content (first few rows)\n",
    "df_file = read_file(file_path,extension)\n"
   ]
  },
  {
   "cell_type": "code",
   "execution_count": 6,
   "metadata": {},
   "outputs": [
    {
     "data": {
      "text/plain": [
       "['Client', 'Address', 'Country', 'PhoneNumber ', 'Bank', 'IdNumber']"
      ]
     },
     "execution_count": 6,
     "metadata": {},
     "output_type": "execute_result"
    }
   ],
   "source": [
    "def get_columns(df_file):\n",
    "    return list(df_file.columns)\n",
    "\n",
    "get_columns(df_file)"
   ]
  }
 ],
 "metadata": {
  "kernelspec": {
   "display_name": ".venv",
   "language": "python",
   "name": "python3"
  },
  "language_info": {
   "codemirror_mode": {
    "name": "ipython",
    "version": 3
   },
   "file_extension": ".py",
   "mimetype": "text/x-python",
   "name": "python",
   "nbconvert_exporter": "python",
   "pygments_lexer": "ipython3",
   "version": "3.12.1"
  }
 },
 "nbformat": 4,
 "nbformat_minor": 2
}
